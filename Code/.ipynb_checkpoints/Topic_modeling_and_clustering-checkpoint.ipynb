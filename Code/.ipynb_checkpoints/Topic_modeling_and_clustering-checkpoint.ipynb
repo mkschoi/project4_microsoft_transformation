{
 "cells": [
  {
   "cell_type": "markdown",
   "metadata": {},
   "source": [
    "## Import Libraries"
   ]
  },
  {
   "cell_type": "code",
   "execution_count": 1,
   "metadata": {},
   "outputs": [],
   "source": [
    "import model_utils as mu\n",
    "import pickle\n",
    "%matplotlib inline\n",
    "\n",
    "from sklearn.feature_extraction.text import TfidfVectorizer, CountVectorizer\n",
    "from sklearn.decomposition import NMF, LatentDirichletAllocation"
   ]
  },
  {
   "cell_type": "markdown",
   "metadata": {},
   "source": [
    "## Unigrams"
   ]
  },
  {
   "cell_type": "markdown",
   "metadata": {},
   "source": [
    "### Create Document-Term Matrices"
   ]
  },
  {
   "cell_type": "code",
   "execution_count": 2,
   "metadata": {},
   "outputs": [],
   "source": [
    "msft_earnings_dict_cleaned = pickle.load(open('cleaned_corpus.pickle', 'rb'))"
   ]
  },
  {
   "cell_type": "code",
   "execution_count": 3,
   "metadata": {},
   "outputs": [],
   "source": [
    "msft_earnings_dict_ordered = {}\n",
    "\n",
    "for tscript in sorted(msft_earnings_dict_cleaned):\n",
    "    msft_earnings_dict_ordered[tscript] = msft_earnings_dict_cleaned[tscript]"
   ]
  },
  {
   "cell_type": "code",
   "execution_count": 4,
   "metadata": {},
   "outputs": [],
   "source": [
    "ballmer_dict = dict(list(msft_earnings_dict_ordered.items())[:len(msft_earnings_dict_ordered)//2]) \n",
    "nadella_dict = dict(list(msft_earnings_dict_ordered.items())[len(msft_earnings_dict_ordered)//2:]) "
   ]
  },
  {
   "cell_type": "code",
   "execution_count": 5,
   "metadata": {},
   "outputs": [],
   "source": [
    "corpus_msft = list(msft_earnings_dict_ordered.values())\n",
    "corpus_ballmer = list(ballmer_dict.values())\n",
    "corpus_nadella = list(nadella_dict.values())"
   ]
  },
  {
   "cell_type": "code",
   "execution_count": 6,
   "metadata": {},
   "outputs": [],
   "source": [
    "import pickle\n",
    "\n",
    "with open('cleaned_corpus_msft.pickle', 'wb') as f_msft:\n",
    "    pickle.dump(corpus_msft, f_msft)\n",
    "\n",
    "with open('cleaned_corpus_ball.pickle', 'wb') as f_ball:\n",
    "    pickle.dump(corpus_ballmer, f_ball)\n",
    "\n",
    "with open('cleaned_corpus_nad.pickle', 'wb') as f_nad:\n",
    "    pickle.dump(corpus_nadella, f_nad)"
   ]
  },
  {
   "cell_type": "markdown",
   "metadata": {},
   "source": [
    "#### Count vectorizer"
   ]
  },
  {
   "cell_type": "code",
   "execution_count": 7,
   "metadata": {},
   "outputs": [],
   "source": [
    "cv_msft = mu.document_term_matrix(corpus_msft, CountVectorizer)[0]\n",
    "cv_ballmer = mu.document_term_matrix(corpus_ballmer, CountVectorizer)[0]\n",
    "cv_nadella = mu.document_term_matrix(corpus_nadella, CountVectorizer)[0]\n",
    "\n",
    "X_msft = mu.document_term_matrix(corpus_msft, CountVectorizer)[1]\n",
    "X_ballmer = mu.document_term_matrix(corpus_ballmer, CountVectorizer)[1]\n",
    "X_nadella = mu.document_term_matrix(corpus_nadella, CountVectorizer)[1]"
   ]
  },
  {
   "cell_type": "code",
   "execution_count": 8,
   "metadata": {},
   "outputs": [],
   "source": [
    "word_freq_msft = mu.word_frequency(cv_msft, X_msft)\n",
    "word_freq_ballmer = mu.word_frequency(cv_ballmer, X_ballmer)\n",
    "word_freq_nadella = mu.word_frequency(cv_ballmer, X_ballmer)"
   ]
  },
  {
   "cell_type": "markdown",
   "metadata": {},
   "source": [
    "#### Tf-idf vectorizer"
   ]
  },
  {
   "cell_type": "code",
   "execution_count": 9,
   "metadata": {},
   "outputs": [],
   "source": [
    "cv_tfidf_msft = mu.document_term_matrix(corpus_msft, TfidfVectorizer)[0]\n",
    "cv_tfidf_ballmer = mu.document_term_matrix(corpus_ballmer, TfidfVectorizer)[0]\n",
    "cv_tfidf_nadella = mu.document_term_matrix(corpus_nadella, TfidfVectorizer)[0]\n",
    "\n",
    "X_tfidf_msft = mu.document_term_matrix(corpus_msft, TfidfVectorizer)[1]\n",
    "X_tfidf_ballmer = mu.document_term_matrix(corpus_ballmer, TfidfVectorizer)[1]\n",
    "X_tfidf_nadella = mu.document_term_matrix(corpus_nadella, TfidfVectorizer)[1]"
   ]
  },
  {
   "cell_type": "markdown",
   "metadata": {},
   "source": [
    "### Topic Modeling"
   ]
  },
  {
   "cell_type": "markdown",
   "metadata": {},
   "source": [
    "#### Non-negative matrix factorization (NMF), Count vectorizer"
   ]
  },
  {
   "cell_type": "code",
   "execution_count": 10,
   "metadata": {},
   "outputs": [
    {
     "data": {
      "text/plain": [
       "(56, 3182)"
      ]
     },
     "execution_count": 10,
     "metadata": {},
     "output_type": "execute_result"
    }
   ],
   "source": [
    "X_msft.shape"
   ]
  },
  {
   "cell_type": "code",
   "execution_count": 11,
   "metadata": {},
   "outputs": [
    {
     "data": {
      "text/plain": [
       "(28, 1777)"
      ]
     },
     "execution_count": 11,
     "metadata": {},
     "output_type": "execute_result"
    }
   ],
   "source": [
    "X_ballmer.shape"
   ]
  },
  {
   "cell_type": "code",
   "execution_count": 12,
   "metadata": {},
   "outputs": [
    {
     "data": {
      "text/plain": [
       "(28, 2227)"
      ]
     },
     "execution_count": 12,
     "metadata": {},
     "output_type": "execute_result"
    }
   ],
   "source": [
    "X_nadella.shape"
   ]
  },
  {
   "cell_type": "code",
   "execution_count": 13,
   "metadata": {},
   "outputs": [
    {
     "data": {
      "text/plain": [
       "[['linkedln', 'ai', 'edge', 'iot', 'amortization', 'transformation'],\n",
       " ['vista', 'mature', 'forecast', 'aquantive', 'happy', 'legal'],\n",
       " ['analytics',\n",
       "  'mobility',\n",
       "  'restructuring',\n",
       "  'transformation',\n",
       "  'corona',\n",
       "  'monthly'],\n",
       " ['github', 'remote', 'ai', 'linkedln', 'edge', 'layer'],\n",
       " ['economy', 'condition', 'weak', 'shipment', 'networks', 'average'],\n",
       " ['skype', 'sync', 'yahoo', 'tablet', 'mad', 'nakia']]"
      ]
     },
     "execution_count": 13,
     "metadata": {},
     "output_type": "execute_result"
    }
   ],
   "source": [
    "top_topic_words_nmf_msft = mu.topic_model(cv_msft, X_msft, NMF, 6, 6)[0]\n",
    "top_topic_words_nmf_ballmer = mu.topic_model(cv_ballmer, X_ballmer, NMF, 6, 6)[0]\n",
    "top_topic_words_nmf_nadella = mu.topic_model(cv_nadella, X_nadella, NMF, 6, 6)[0]\n",
    "\n",
    "top_topic_words_nmf_msft"
   ]
  },
  {
   "cell_type": "code",
   "execution_count": 14,
   "metadata": {},
   "outputs": [
    {
     "data": {
      "text/plain": [
       "array([1, 1, 1, 1, 1, 1, 4, 4, 4, 4, 4, 4, 4, 5, 5, 5, 5, 5, 5, 5, 5, 5,\n",
       "       5, 5, 5, 5, 5, 5, 2, 2, 2, 2, 2, 2, 2, 2, 2, 2, 2, 0, 0, 0, 0, 0,\n",
       "       0, 0, 3, 3, 3, 3, 3, 3, 3, 3, 3, 3])"
      ]
     },
     "execution_count": 14,
     "metadata": {},
     "output_type": "execute_result"
    }
   ],
   "source": [
    "topic_clustering_nmf_msft = mu.topic_model(cv_msft, X_msft, NMF, 6, 6)[1].argmax(axis=1)\n",
    "topic_clustering_nmf_ballmer = mu.topic_model(cv_ballmer, X_ballmer, NMF, 6, 6)[1].argmax(axis=1)\n",
    "topic_clustering_nmf_nadella = mu.topic_model(cv_nadella, X_nadella, NMF, 6, 6)[1].argmax(axis=1)\n",
    "\n",
    "topic_clustering_nmf_msft"
   ]
  },
  {
   "cell_type": "markdown",
   "metadata": {},
   "source": [
    "#### Latent Dirichlet Allocation (LDA) - Count vectorizer"
   ]
  },
  {
   "cell_type": "code",
   "execution_count": 15,
   "metadata": {},
   "outputs": [
    {
     "data": {
      "text/plain": [
       "[['shipment', 'economy', 'networks', 'nonannuity', 'average', 'refresh'],\n",
       " ['analytics', 'iot', 'transformation', 'frankly', 'weakness', 'corona'],\n",
       " ['mobility', 'refresh', 'china', 'nakia', 'analytics', 'lucia'],\n",
       " ['linkedln', 'ai', 'edge', 'github', 'stack', 'worker'],\n",
       " ['vista', 'forecast', 'mature', 'yahoo', 'aquantive', 'legal'],\n",
       " ['sync', 'skype', 'tablet', 'mad', 'season', 'nakia']]"
      ]
     },
     "execution_count": 15,
     "metadata": {},
     "output_type": "execute_result"
    }
   ],
   "source": [
    "top_topic_words_lda_msft = mu.topic_model(cv_msft, X_msft, LatentDirichletAllocation, 6, 6)[0]\n",
    "top_topic_words_lda_ballmer = mu.topic_model(cv_ballmer, X_ballmer, LatentDirichletAllocation, 6, 6)[0]\n",
    "top_topic_words_lda_nadella = mu.topic_model(cv_nadella, X_nadella, LatentDirichletAllocation, 6, 6)[0]\n",
    "\n",
    "top_topic_words_lda_msft"
   ]
  },
  {
   "cell_type": "code",
   "execution_count": 16,
   "metadata": {},
   "outputs": [
    {
     "data": {
      "text/plain": [
       "array([5, 5, 5, 5, 5, 5, 5, 5, 5, 5, 5, 5, 5, 0, 0, 0, 0, 0, 0, 0, 0, 0,\n",
       "       2, 2, 2, 2, 2, 0, 2, 2, 2, 2, 2, 2, 3, 4, 4, 4, 4, 3, 3, 3, 3, 1,\n",
       "       3, 1, 1, 1, 1, 1, 1, 1, 1, 1, 1, 1])"
      ]
     },
     "execution_count": 16,
     "metadata": {},
     "output_type": "execute_result"
    }
   ],
   "source": [
    "topic_clustering_lda_msft = mu.topic_model(cv_msft, X_msft, LatentDirichletAllocation, 6, 6)[1].argmax(axis=1)\n",
    "topic_clustering_lda_ballmer = mu.topic_model(cv_ballmer, X_ballmer, LatentDirichletAllocation, 6, 6)[1].argmax(axis=1)\n",
    "topic_clustering_lda_nadella = mu.topic_model(cv_nadella, X_nadella, LatentDirichletAllocation, 6, 6)[1].argmax(axis=1)\n",
    "\n",
    "topic_clustering_lda_msft"
   ]
  },
  {
   "cell_type": "markdown",
   "metadata": {},
   "source": [
    "#### Non-negative matrix factorization (NMF), Tf-idf vectorizer"
   ]
  },
  {
   "cell_type": "code",
   "execution_count": 17,
   "metadata": {},
   "outputs": [
    {
     "data": {
      "text/plain": [
       "[['linkedln', 'ai', 'edge', 'iot', 'amortization', 'transformation'],\n",
       " ['sync', 'skype', 'tablet', 'roadmap', 'nakia', 'private'],\n",
       " ['vista', 'aquantive', 'forecast', 'mature', 'happy', 'yahoo'],\n",
       " ['restructuring', 'analytics', 'mobility', 'lucia', 'corona', 'em'],\n",
       " ['shipment', 'networks', 'economy', 'reset', 'nonannuity', 'katherine'],\n",
       " ['github', 'ai', 'linkedln', 'remote', 'worker', 'layer']]"
      ]
     },
     "execution_count": 17,
     "metadata": {},
     "output_type": "execute_result"
    }
   ],
   "source": [
    "top_topic_words_nmf_tfidf_msft = mu.topic_model(cv_tfidf_msft, X_tfidf_msft, NMF, 6, 6)[0]\n",
    "top_topic_words_nmf_tfidf_ballmer = mu.topic_model(cv_tfidf_ballmer, X_tfidf_ballmer, NMF, 6, 6)[0]\n",
    "top_topic_words_nmf_tfidf_nadella = mu.topic_model(cv_tfidf_nadella, X_tfidf_nadella, NMF, 6, 6)[0]\n",
    "\n",
    "top_topic_words_nmf_tfidf_msft"
   ]
  },
  {
   "cell_type": "code",
   "execution_count": 18,
   "metadata": {},
   "outputs": [
    {
     "data": {
      "text/plain": [
       "array([2, 2, 2, 2, 2, 2, 4, 4, 4, 4, 4, 4, 4, 4, 4, 1, 1, 1, 1, 1, 1, 1,\n",
       "       1, 1, 1, 1, 1, 1, 3, 3, 3, 3, 3, 3, 3, 3, 3, 3, 3, 0, 0, 0, 0, 0,\n",
       "       0, 0, 5, 5, 5, 5, 5, 5, 5, 5, 5, 5])"
      ]
     },
     "execution_count": 18,
     "metadata": {},
     "output_type": "execute_result"
    }
   ],
   "source": [
    "topic_clustering_nmf_tfidf_msft = mu.topic_model(cv_tfidf_msft, X_tfidf_msft, NMF, 6, 6)[1].argmax(axis=1)\n",
    "topic_clustering_nmf_tfidf_ballmer = mu.topic_model(cv_tfidf_ballmer, X_tfidf_ballmer, NMF, 6, 6)[1].argmax(axis=1)\n",
    "topic_clustering_nmf_tfidf_nadella = mu.topic_model(cv_tfidf_nadella, X_tfidf_nadella, NMF, 6, 6)[1].argmax(axis=1)\n",
    "\n",
    "topic_clustering_nmf_tfidf_msft"
   ]
  },
  {
   "cell_type": "markdown",
   "metadata": {},
   "source": [
    "### Clustering"
   ]
  },
  {
   "cell_type": "code",
   "execution_count": 19,
   "metadata": {},
   "outputs": [
    {
     "data": {
      "image/png": "[encoded data removed]",
      "text/plain": [
       "<Figure size 432x288 with 1 Axes>"
      ]
     },
     "metadata": {
      "needs_background": "light"
     },
     "output_type": "display_data"
    }
   ],
   "source": [
    "mu.kmeans_clustering(X_tfidf_msft, 3)"
   ]
  },
  {
   "cell_type": "code",
   "execution_count": 20,
   "metadata": {},
   "outputs": [
    {
     "data": {
      "image/png": "[encoded data removed]",
      "text/plain": [
       "<Figure size 1080x360 with 2 Axes>"
      ]
     },
     "metadata": {
      "needs_background": "light"
     },
     "output_type": "display_data"
    }
   ],
   "source": [
    "mu.silhouette_coeff_sse(X_tfidf_msft)"
   ]
  },
  {
   "cell_type": "code",
   "execution_count": null,
   "metadata": {},
   "outputs": [],
   "source": []
  }
 ],
 "metadata": {
  "kernelspec": {
   "display_name": "Python 3",
   "language": "python",
   "name": "python3"
  },
  "language_info": {
   "codemirror_mode": {
    "name": "ipython",
    "version": 3
   },
   "file_extension": ".py",
   "mimetype": "text/x-python",
   "name": "python",
   "nbconvert_exporter": "python",
   "pygments_lexer": "ipython3",
   "version": "3.8.5"
  }
 },
 "nbformat": 4,
 "nbformat_minor": 4
}
