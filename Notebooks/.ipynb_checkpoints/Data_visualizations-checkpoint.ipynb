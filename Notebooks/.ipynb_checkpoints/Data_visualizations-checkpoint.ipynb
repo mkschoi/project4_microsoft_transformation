{
 "cells": [
  {
   "cell_type": "markdown",
   "metadata": {},
   "source": [
    "## Scattertext"
   ]
  },
  {
   "cell_type": "code",
   "execution_count": 1,
   "metadata": {},
   "outputs": [],
   "source": [
    "import pickle\n",
    "import pandas as pd\n",
    "import scattertext as st"
   ]
  },
  {
   "cell_type": "code",
   "execution_count": 2,
   "metadata": {},
   "outputs": [
    {
     "ename": "EOFError",
     "evalue": "Ran out of input",
     "output_type": "error",
     "traceback": [
      "\u001b[0;31m---------------------------------------------------------------------------\u001b[0m",
      "\u001b[0;31mEOFError\u001b[0m                                  Traceback (most recent call last)",
      "\u001b[0;32m<ipython-input-2-7445e6dc9f75>\u001b[0m in \u001b[0;36m<module>\u001b[0;34m\u001b[0m\n\u001b[1;32m      1\u001b[0m \u001b[0mcorpus_ballmer\u001b[0m \u001b[0;34m=\u001b[0m \u001b[0mpickle\u001b[0m\u001b[0;34m.\u001b[0m\u001b[0mload\u001b[0m\u001b[0;34m(\u001b[0m\u001b[0mopen\u001b[0m\u001b[0;34m(\u001b[0m\u001b[0;34m'cleaned_corpus_ballmer.pickle'\u001b[0m\u001b[0;34m,\u001b[0m \u001b[0;34m'rb'\u001b[0m\u001b[0;34m)\u001b[0m\u001b[0;34m)\u001b[0m\u001b[0;34m\u001b[0m\u001b[0;34m\u001b[0m\u001b[0m\n\u001b[0;32m----> 2\u001b[0;31m \u001b[0mcorpus_nadella\u001b[0m \u001b[0;34m=\u001b[0m \u001b[0mpickle\u001b[0m\u001b[0;34m.\u001b[0m\u001b[0mload\u001b[0m\u001b[0;34m(\u001b[0m\u001b[0mopen\u001b[0m\u001b[0;34m(\u001b[0m\u001b[0;34m'cleaned_corpus_nadella.pickle'\u001b[0m\u001b[0;34m,\u001b[0m \u001b[0;34m'rb'\u001b[0m\u001b[0;34m)\u001b[0m\u001b[0;34m)\u001b[0m\u001b[0;34m\u001b[0m\u001b[0;34m\u001b[0m\u001b[0m\n\u001b[0m",
      "\u001b[0;31mEOFError\u001b[0m: Ran out of input"
     ]
    }
   ],
   "source": [
    "corpus_ballmer = pickle.load(open('cleaned_corpus_ballmer.pickle', 'rb'))\n",
    "corpus_nadella = pickle.load(open('cleaned_corpus_nadella.pickle', 'rb'))"
   ]
  },
  {
   "cell_type": "code",
   "execution_count": null,
   "metadata": {},
   "outputs": [],
   "source": [
    "corpus_text_ballmer = []\n",
    "for doc in corpus_ballmer:\n",
    "    corpus_text_ballmer.append(' '.join(doc))"
   ]
  },
  {
   "cell_type": "code",
   "execution_count": null,
   "metadata": {},
   "outputs": [],
   "source": [
    "corpus_text_nadella = []\n",
    "for doc in corpus_nadella:\n",
    "    corpus_text_nadella.append(' '.join(doc))"
   ]
  },
  {
   "cell_type": "code",
   "execution_count": null,
   "metadata": {},
   "outputs": [],
   "source": [
    "quarters_ballmer = ['msft_07q3', 'msft_07q4', 'msft_08q1', 'msft_08q2', 'msft_08q3', 'msft_08q4', 'msft_09q1', 'msft_09q2', 'msft_09q3', 'msft_09q4', 'msft_10q1', 'msft_10q2', 'msft_10q3', 'msft_10q4', 'msft_11q1', 'msft_11q2', 'msft_11q3', 'msft_11q4', 'msft_12q1', 'msft_12q2', 'msft_12q3', 'msft_12q4', 'msft_13q1', 'msft_13q2', 'msft_13q3', 'msft_13q4', 'msft_14q1', 'msft_14q2']\n",
    "quarters_nadella = ['msft_14q3', 'msft_14q4', 'msft_15q1', 'msft_15q2', 'msft_15q3', 'msft_15q4', 'msft_16q1', 'msft_16q2', 'msft_16q3', 'msft_16q4', 'msft_17q1', 'msft_17q2', 'msft_17q3', 'msft_17q4', 'msft_18q1', 'msft_18q2', 'msft_18q3', 'msft_18q4', 'msft_19q1', 'msft_19q2', 'msft_19q3', 'msft_19q4', 'msft_20q1', 'msft_20q2', 'msft_20q3', 'msft_20q4', 'msft_21q1', 'msft_21q2']"
   ]
  },
  {
   "cell_type": "code",
   "execution_count": null,
   "metadata": {},
   "outputs": [],
   "source": [
    "df_ballmer = pd.DataFrame(corpus_text_ballmer, columns=['text'])\n",
    "df_ballmer['ceo'] = 'Ballmer'\n",
    "df_ballmer['quarter'] = quarters_ballmer"
   ]
  },
  {
   "cell_type": "code",
   "execution_count": null,
   "metadata": {},
   "outputs": [],
   "source": [
    "df_nadella = pd.DataFrame(corpus_text_nadella, columns=['text'])\n",
    "df_nadella['ceo'] = 'Nadella'\n",
    "df_nadella['quarter'] = quarters_nadella"
   ]
  },
  {
   "cell_type": "code",
   "execution_count": null,
   "metadata": {},
   "outputs": [],
   "source": [
    "df_msft = pd.concat([df_ballmer, df_nadella], axis=0).reset_index(drop=True)"
   ]
  },
  {
   "cell_type": "code",
   "execution_count": null,
   "metadata": {},
   "outputs": [],
   "source": [
    "df_msft"
   ]
  },
  {
   "cell_type": "code",
   "execution_count": null,
   "metadata": {},
   "outputs": [],
   "source": [
    "corpus = st.CorpusFromPandas(df_msft,\n",
    "                             category_col='ceo',\n",
    "                             text_col='text',\n",
    "                             nlp=st.whitespace_nlp_with_sentences\n",
    "                            ).build()"
   ]
  },
  {
   "cell_type": "code",
   "execution_count": null,
   "metadata": {},
   "outputs": [],
   "source": [
    "html = st.produce_scattertext_explorer(\n",
    "        corpus,\n",
    "        category='Ballmer',\n",
    "        category_name='Steve Ballmer Era',\n",
    "        not_category_name='Satya Nadella Era',\n",
    "        minimum_term_frequency=10,\n",
    "        pmi_threshold_coefficient=5,\n",
    "        width_in_pixels=1000,\n",
    "        metadata=df_msft['quarter'],\n",
    "        )"
   ]
  },
  {
   "cell_type": "code",
   "execution_count": null,
   "metadata": {},
   "outputs": [],
   "source": [
    "open('scattertext_demo.html', 'wb').write(html.encode('utf-8'));"
   ]
  },
  {
   "cell_type": "code",
   "execution_count": null,
   "metadata": {},
   "outputs": [],
   "source": []
  }
 ],
 "metadata": {
  "kernelspec": {
   "display_name": "Python 3",
   "language": "python",
   "name": "python3"
  },
  "language_info": {
   "codemirror_mode": {
    "name": "ipython",
    "version": 3
   },
   "file_extension": ".py",
   "mimetype": "text/x-python",
   "name": "python",
   "nbconvert_exporter": "python",
   "pygments_lexer": "ipython3",
   "version": "3.8.3"
  }
 },
 "nbformat": 4,
 "nbformat_minor": 4
}
